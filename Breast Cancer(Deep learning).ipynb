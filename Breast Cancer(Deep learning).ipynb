{
 "cells": [
  {
   "cell_type": "code",
   "execution_count": 113,
   "id": "5a8cbfee",
   "metadata": {},
   "outputs": [
    {
     "data": {
      "text/html": [
       "<div>\n",
       "<style scoped>\n",
       "    .dataframe tbody tr th:only-of-type {\n",
       "        vertical-align: middle;\n",
       "    }\n",
       "\n",
       "    .dataframe tbody tr th {\n",
       "        vertical-align: top;\n",
       "    }\n",
       "\n",
       "    .dataframe thead th {\n",
       "        text-align: right;\n",
       "    }\n",
       "</style>\n",
       "<table border=\"1\" class=\"dataframe\">\n",
       "  <thead>\n",
       "    <tr style=\"text-align: right;\">\n",
       "      <th></th>\n",
       "      <th>sam_code_num</th>\n",
       "      <th>Clump_thick</th>\n",
       "      <th>Uni_of_Cell_Size</th>\n",
       "      <th>Uni_of_Cell_Shape</th>\n",
       "      <th>Marginal_Adhesion</th>\n",
       "      <th>Single_Epithelial_Cell_Size</th>\n",
       "      <th>Bare_Nuclei</th>\n",
       "      <th>Bland_Chromatin</th>\n",
       "      <th>Normal_Nucleoli</th>\n",
       "      <th>Mitoes</th>\n",
       "      <th>Class</th>\n",
       "    </tr>\n",
       "  </thead>\n",
       "  <tbody>\n",
       "    <tr>\n",
       "      <th>0</th>\n",
       "      <td>1000025</td>\n",
       "      <td>5</td>\n",
       "      <td>1</td>\n",
       "      <td>1</td>\n",
       "      <td>1</td>\n",
       "      <td>2</td>\n",
       "      <td>1.0</td>\n",
       "      <td>3</td>\n",
       "      <td>1</td>\n",
       "      <td>1</td>\n",
       "      <td>2</td>\n",
       "    </tr>\n",
       "    <tr>\n",
       "      <th>1</th>\n",
       "      <td>1002945</td>\n",
       "      <td>5</td>\n",
       "      <td>4</td>\n",
       "      <td>4</td>\n",
       "      <td>5</td>\n",
       "      <td>7</td>\n",
       "      <td>10.0</td>\n",
       "      <td>3</td>\n",
       "      <td>2</td>\n",
       "      <td>1</td>\n",
       "      <td>2</td>\n",
       "    </tr>\n",
       "    <tr>\n",
       "      <th>2</th>\n",
       "      <td>1015425</td>\n",
       "      <td>3</td>\n",
       "      <td>1</td>\n",
       "      <td>1</td>\n",
       "      <td>1</td>\n",
       "      <td>2</td>\n",
       "      <td>2.0</td>\n",
       "      <td>3</td>\n",
       "      <td>1</td>\n",
       "      <td>1</td>\n",
       "      <td>2</td>\n",
       "    </tr>\n",
       "    <tr>\n",
       "      <th>3</th>\n",
       "      <td>1016277</td>\n",
       "      <td>6</td>\n",
       "      <td>8</td>\n",
       "      <td>8</td>\n",
       "      <td>1</td>\n",
       "      <td>3</td>\n",
       "      <td>4.0</td>\n",
       "      <td>3</td>\n",
       "      <td>7</td>\n",
       "      <td>1</td>\n",
       "      <td>2</td>\n",
       "    </tr>\n",
       "    <tr>\n",
       "      <th>4</th>\n",
       "      <td>1017023</td>\n",
       "      <td>4</td>\n",
       "      <td>1</td>\n",
       "      <td>1</td>\n",
       "      <td>3</td>\n",
       "      <td>2</td>\n",
       "      <td>1.0</td>\n",
       "      <td>3</td>\n",
       "      <td>1</td>\n",
       "      <td>1</td>\n",
       "      <td>2</td>\n",
       "    </tr>\n",
       "  </tbody>\n",
       "</table>\n",
       "</div>"
      ],
      "text/plain": [
       "   sam_code_num  Clump_thick  Uni_of_Cell_Size  Uni_of_Cell_Shape  \\\n",
       "0       1000025            5                 1                  1   \n",
       "1       1002945            5                 4                  4   \n",
       "2       1015425            3                 1                  1   \n",
       "3       1016277            6                 8                  8   \n",
       "4       1017023            4                 1                  1   \n",
       "\n",
       "   Marginal_Adhesion  Single_Epithelial_Cell_Size  Bare_Nuclei  \\\n",
       "0                  1                            2          1.0   \n",
       "1                  5                            7         10.0   \n",
       "2                  1                            2          2.0   \n",
       "3                  1                            3          4.0   \n",
       "4                  3                            2          1.0   \n",
       "\n",
       "   Bland_Chromatin  Normal_Nucleoli  Mitoes  Class  \n",
       "0                3                1       1      2  \n",
       "1                3                2       1      2  \n",
       "2                3                1       1      2  \n",
       "3                3                7       1      2  \n",
       "4                3                1       1      2  "
      ]
     },
     "execution_count": 113,
     "metadata": {},
     "output_type": "execute_result"
    }
   ],
   "source": [
    "import pandas as pd\n",
    "import numpy as np\n",
    "import matplotlib.pyplot as plt\n",
    "from scipy import stats\n",
    "import seaborn as sns\n",
    "import statsmodels.api as sm\n",
    "columns=[\"sam_code_num\",\"Clump_thick\",\"Uni_of_Cell_Size\",\"Uni_of_Cell_Shape\",\"Marginal_Adhesion\",\"Single_Epithelial_Cell_Size\",\"Bare_Nuclei\",\"Bland_Chromatin\",\"Normal_Nucleoli\",\"Mitoes\",\"Class\"]\n",
    "data=pd.read_csv(\"https://archive.ics.uci.edu/ml/machine-learning-databases/breast-cancer-wisconsin/breast-cancer-wisconsin.data\",names=columns,na_values=\"?\")\n",
    "data.head()"
   ]
  },
  {
   "cell_type": "code",
   "execution_count": 114,
   "id": "f6f4515f",
   "metadata": {},
   "outputs": [
    {
     "data": {
      "text/plain": [
       "Index(['sam_code_num', 'Clump_thick', 'Uni_of_Cell_Size', 'Uni_of_Cell_Shape',\n",
       "       'Marginal_Adhesion', 'Single_Epithelial_Cell_Size', 'Bare_Nuclei',\n",
       "       'Bland_Chromatin', 'Normal_Nucleoli', 'Mitoes', 'Class'],\n",
       "      dtype='object')"
      ]
     },
     "execution_count": 114,
     "metadata": {},
     "output_type": "execute_result"
    }
   ],
   "source": [
    "data.columns"
   ]
  },
  {
   "cell_type": "code",
   "execution_count": 115,
   "id": "5603c6e5",
   "metadata": {},
   "outputs": [
    {
     "name": "stdout",
     "output_type": "stream",
     "text": [
      "<class 'pandas.core.frame.DataFrame'>\n",
      "RangeIndex: 699 entries, 0 to 698\n",
      "Data columns (total 11 columns):\n",
      " #   Column                       Non-Null Count  Dtype  \n",
      "---  ------                       --------------  -----  \n",
      " 0   sam_code_num                 699 non-null    int64  \n",
      " 1   Clump_thick                  699 non-null    int64  \n",
      " 2   Uni_of_Cell_Size             699 non-null    int64  \n",
      " 3   Uni_of_Cell_Shape            699 non-null    int64  \n",
      " 4   Marginal_Adhesion            699 non-null    int64  \n",
      " 5   Single_Epithelial_Cell_Size  699 non-null    int64  \n",
      " 6   Bare_Nuclei                  683 non-null    float64\n",
      " 7   Bland_Chromatin              699 non-null    int64  \n",
      " 8   Normal_Nucleoli              699 non-null    int64  \n",
      " 9   Mitoes                       699 non-null    int64  \n",
      " 10  Class                        699 non-null    int64  \n",
      "dtypes: float64(1), int64(10)\n",
      "memory usage: 60.2 KB\n"
     ]
    }
   ],
   "source": [
    "data.info()"
   ]
  },
  {
   "cell_type": "code",
   "execution_count": 116,
   "id": "7bf0c2e8",
   "metadata": {},
   "outputs": [
    {
     "data": {
      "text/plain": [
       "sam_code_num                    0\n",
       "Clump_thick                     0\n",
       "Uni_of_Cell_Size                0\n",
       "Uni_of_Cell_Shape               0\n",
       "Marginal_Adhesion               0\n",
       "Single_Epithelial_Cell_Size     0\n",
       "Bare_Nuclei                    16\n",
       "Bland_Chromatin                 0\n",
       "Normal_Nucleoli                 0\n",
       "Mitoes                          0\n",
       "Class                           0\n",
       "dtype: int64"
      ]
     },
     "execution_count": 116,
     "metadata": {},
     "output_type": "execute_result"
    }
   ],
   "source": [
    "data.isnull().sum()"
   ]
  },
  {
   "cell_type": "code",
   "execution_count": 117,
   "id": "01fb3bab",
   "metadata": {},
   "outputs": [
    {
     "data": {
      "text/plain": [
       "count    683.000000\n",
       "mean       3.544656\n",
       "std        3.643857\n",
       "min        1.000000\n",
       "25%        1.000000\n",
       "50%        1.000000\n",
       "75%        6.000000\n",
       "max       10.000000\n",
       "Name: Bare_Nuclei, dtype: float64"
      ]
     },
     "execution_count": 117,
     "metadata": {},
     "output_type": "execute_result"
    }
   ],
   "source": [
    "data.Bare_Nuclei.describe()"
   ]
  },
  {
   "cell_type": "code",
   "execution_count": 118,
   "id": "83ad517e",
   "metadata": {},
   "outputs": [],
   "source": [
    "data.Bare_Nuclei.fillna(3.544656,inplace=True)"
   ]
  },
  {
   "cell_type": "code",
   "execution_count": 119,
   "id": "564c14be",
   "metadata": {},
   "outputs": [
    {
     "data": {
      "text/plain": [
       "0"
      ]
     },
     "execution_count": 119,
     "metadata": {},
     "output_type": "execute_result"
    }
   ],
   "source": [
    "data.Bare_Nuclei.isnull().sum()"
   ]
  },
  {
   "cell_type": "code",
   "execution_count": 120,
   "id": "762330a6",
   "metadata": {},
   "outputs": [],
   "source": [
    "from sklearn.model_selection import train_test_split"
   ]
  },
  {
   "cell_type": "code",
   "execution_count": 121,
   "id": "82aa65c8",
   "metadata": {},
   "outputs": [
    {
     "name": "stdout",
     "output_type": "stream",
     "text": [
      "0      2\n",
      "1      2\n",
      "2      2\n",
      "3      2\n",
      "4      2\n",
      "      ..\n",
      "694    2\n",
      "695    2\n",
      "696    4\n",
      "697    4\n",
      "698    4\n",
      "Name: Class, Length: 699, dtype: int64\n"
     ]
    }
   ],
   "source": [
    "y=data.Class\n",
    "print(y)"
   ]
  },
  {
   "cell_type": "code",
   "execution_count": 122,
   "id": "9d9c9c9b",
   "metadata": {},
   "outputs": [
    {
     "name": "stdout",
     "output_type": "stream",
     "text": [
      "     Clump_thick  Uni_of_Cell_Size  Uni_of_Cell_Shape  Marginal_Adhesion  \\\n",
      "0              5                 1                  1                  1   \n",
      "1              5                 4                  4                  5   \n",
      "2              3                 1                  1                  1   \n",
      "3              6                 8                  8                  1   \n",
      "4              4                 1                  1                  3   \n",
      "..           ...               ...                ...                ...   \n",
      "694            3                 1                  1                  1   \n",
      "695            2                 1                  1                  1   \n",
      "696            5                10                 10                  3   \n",
      "697            4                 8                  6                  4   \n",
      "698            4                 8                  8                  5   \n",
      "\n",
      "     Single_Epithelial_Cell_Size  Bare_Nuclei  Bland_Chromatin  \\\n",
      "0                              2          1.0                3   \n",
      "1                              7         10.0                3   \n",
      "2                              2          2.0                3   \n",
      "3                              3          4.0                3   \n",
      "4                              2          1.0                3   \n",
      "..                           ...          ...              ...   \n",
      "694                            3          2.0                1   \n",
      "695                            2          1.0                1   \n",
      "696                            7          3.0                8   \n",
      "697                            3          4.0               10   \n",
      "698                            4          5.0               10   \n",
      "\n",
      "     Normal_Nucleoli  Mitoes  \n",
      "0                  1       1  \n",
      "1                  2       1  \n",
      "2                  1       1  \n",
      "3                  7       1  \n",
      "4                  1       1  \n",
      "..               ...     ...  \n",
      "694                1       1  \n",
      "695                1       1  \n",
      "696               10       2  \n",
      "697                6       1  \n",
      "698                4       1  \n",
      "\n",
      "[699 rows x 9 columns]\n"
     ]
    }
   ],
   "source": [
    "x=data.drop([\"sam_code_num\",\"Class\"],axis=1)\n",
    "print(x)\n"
   ]
  },
  {
   "cell_type": "code",
   "execution_count": 123,
   "id": "f56aaee2",
   "metadata": {},
   "outputs": [],
   "source": [
    "train_x,test_x,train_y,test_y=train_test_split(x,y,train_size=0.8,test_size=0.2,shuffle=False)"
   ]
  },
  {
   "cell_type": "code",
   "execution_count": 124,
   "id": "607c9142",
   "metadata": {},
   "outputs": [],
   "source": [
    "from keras.models import Sequential\n",
    "from tensorflow.keras import layers"
   ]
  },
  {
   "cell_type": "code",
   "execution_count": 125,
   "id": "da8c4993",
   "metadata": {},
   "outputs": [],
   "source": [
    "model=Sequential()\n",
    "model.add(layers.Dense(8,input_dim=9,activation='relu'))\n",
    "model.add(layers.Dense(32,activation='relu'))\n",
    "model.add(layers.Dense(2,activation='relu'))"
   ]
  },
  {
   "cell_type": "code",
   "execution_count": 126,
   "id": "31e446a6",
   "metadata": {},
   "outputs": [],
   "source": [
    "model.compile(loss='binary_crossentropy',optimizer='adam',metrics=['accuracy'])"
   ]
  },
  {
   "cell_type": "code",
   "execution_count": 127,
   "id": "45aa8cab",
   "metadata": {},
   "outputs": [
    {
     "name": "stdout",
     "output_type": "stream",
     "text": [
      "Epoch 1/50\n",
      "22/22 [==============================] - 2s 6ms/step - loss: -23.7292 - accuracy: 0.0000e+00\n",
      "Epoch 2/50\n",
      "22/22 [==============================] - 0s 7ms/step - loss: -25.5155 - accuracy: 0.0000e+00\n",
      "Epoch 3/50\n",
      "22/22 [==============================] - 0s 7ms/step - loss: -25.6953 - accuracy: 0.0000e+00\n",
      "Epoch 4/50\n",
      "22/22 [==============================] - 0s 6ms/step - loss: -25.7123 - accuracy: 0.0000e+00\n",
      "Epoch 5/50\n",
      "22/22 [==============================] - 0s 7ms/step - loss: -25.7644 - accuracy: 0.0000e+00\n",
      "Epoch 6/50\n",
      "22/22 [==============================] - 0s 7ms/step - loss: -25.7645 - accuracy: 0.0000e+00\n",
      "Epoch 7/50\n",
      "22/22 [==============================] - 0s 7ms/step - loss: -25.7644 - accuracy: 0.0000e+00\n",
      "Epoch 8/50\n",
      "22/22 [==============================] - 0s 7ms/step - loss: -25.7645 - accuracy: 0.0000e+00\n",
      "Epoch 9/50\n",
      "22/22 [==============================] - 0s 7ms/step - loss: -25.7644 - accuracy: 0.0000e+00\n",
      "Epoch 10/50\n",
      "22/22 [==============================] - 0s 7ms/step - loss: -25.7644 - accuracy: 0.0000e+00\n",
      "Epoch 11/50\n",
      "22/22 [==============================] - 0s 7ms/step - loss: -25.7644 - accuracy: 0.0000e+00\n",
      "Epoch 12/50\n",
      "22/22 [==============================] - 0s 6ms/step - loss: -25.7644 - accuracy: 0.0000e+00\n",
      "Epoch 13/50\n",
      "22/22 [==============================] - 0s 6ms/step - loss: -25.7645 - accuracy: 0.0000e+00\n",
      "Epoch 14/50\n",
      "22/22 [==============================] - 0s 6ms/step - loss: -25.7645 - accuracy: 0.0000e+00\n",
      "Epoch 15/50\n",
      "22/22 [==============================] - 0s 6ms/step - loss: -25.7645 - accuracy: 0.0000e+00\n",
      "Epoch 16/50\n",
      "22/22 [==============================] - 0s 7ms/step - loss: -25.7644 - accuracy: 0.0000e+00\n",
      "Epoch 17/50\n",
      "22/22 [==============================] - 0s 10ms/step - loss: -25.7645 - accuracy: 0.0000e+00\n",
      "Epoch 18/50\n",
      "22/22 [==============================] - 0s 10ms/step - loss: -25.7644 - accuracy: 0.0000e+00\n",
      "Epoch 19/50\n",
      "22/22 [==============================] - 0s 11ms/step - loss: -25.7644 - accuracy: 0.0000e+00\n",
      "Epoch 20/50\n",
      "22/22 [==============================] - 0s 7ms/step - loss: -25.7644 - accuracy: 0.0000e+00\n",
      "Epoch 21/50\n",
      "22/22 [==============================] - 0s 9ms/step - loss: -25.7644 - accuracy: 0.0000e+00\n",
      "Epoch 22/50\n",
      "22/22 [==============================] - 0s 7ms/step - loss: -25.7645 - accuracy: 0.0000e+00\n",
      "Epoch 23/50\n",
      "22/22 [==============================] - 0s 9ms/step - loss: -25.7644 - accuracy: 0.0000e+00\n",
      "Epoch 24/50\n",
      "22/22 [==============================] - 0s 7ms/step - loss: -25.7644 - accuracy: 0.0000e+00\n",
      "Epoch 25/50\n",
      "22/22 [==============================] - 0s 8ms/step - loss: -25.7645 - accuracy: 0.0000e+00\n",
      "Epoch 26/50\n",
      "22/22 [==============================] - 0s 7ms/step - loss: -25.7644 - accuracy: 0.0000e+00\n",
      "Epoch 27/50\n",
      "22/22 [==============================] - 0s 7ms/step - loss: -25.7645 - accuracy: 0.0000e+00\n",
      "Epoch 28/50\n",
      "22/22 [==============================] - 0s 9ms/step - loss: -25.7644 - accuracy: 0.0000e+00\n",
      "Epoch 29/50\n",
      "22/22 [==============================] - 0s 6ms/step - loss: -25.7645 - accuracy: 0.0000e+00\n",
      "Epoch 30/50\n",
      "22/22 [==============================] - 0s 8ms/step - loss: -25.7644 - accuracy: 0.0000e+00\n",
      "Epoch 31/50\n",
      "22/22 [==============================] - 0s 7ms/step - loss: -25.7644 - accuracy: 0.0000e+00\n",
      "Epoch 32/50\n",
      "22/22 [==============================] - 0s 10ms/step - loss: -25.7644 - accuracy: 0.0000e+00\n",
      "Epoch 33/50\n",
      "22/22 [==============================] - 0s 4ms/step - loss: -25.7644 - accuracy: 0.0000e+00\n",
      "Epoch 34/50\n",
      "22/22 [==============================] - 0s 7ms/step - loss: -25.7644 - accuracy: 0.0000e+00\n",
      "Epoch 35/50\n",
      "22/22 [==============================] - 0s 4ms/step - loss: -25.7645 - accuracy: 0.0000e+00\n",
      "Epoch 36/50\n",
      "22/22 [==============================] - 0s 4ms/step - loss: -25.7645 - accuracy: 0.0000e+00\n",
      "Epoch 37/50\n",
      "22/22 [==============================] - 0s 4ms/step - loss: -25.7644 - accuracy: 0.0000e+00\n",
      "Epoch 38/50\n",
      "22/22 [==============================] - 0s 4ms/step - loss: -25.7645 - accuracy: 0.0000e+00\n",
      "Epoch 39/50\n",
      "22/22 [==============================] - 0s 4ms/step - loss: -25.7645 - accuracy: 0.0000e+00\n",
      "Epoch 40/50\n",
      "22/22 [==============================] - 0s 4ms/step - loss: -25.7644 - accuracy: 0.0000e+00\n",
      "Epoch 41/50\n",
      "22/22 [==============================] - 0s 4ms/step - loss: -25.7644 - accuracy: 0.0000e+00\n",
      "Epoch 42/50\n",
      "22/22 [==============================] - 0s 4ms/step - loss: -25.7645 - accuracy: 0.0000e+00\n",
      "Epoch 43/50\n",
      "22/22 [==============================] - 0s 4ms/step - loss: -25.7644 - accuracy: 0.0000e+00\n",
      "Epoch 44/50\n",
      "22/22 [==============================] - 0s 4ms/step - loss: -25.7644 - accuracy: 0.0000e+00\n",
      "Epoch 45/50\n",
      "22/22 [==============================] - 0s 6ms/step - loss: -25.7644 - accuracy: 0.0000e+00\n",
      "Epoch 46/50\n",
      "22/22 [==============================] - 0s 4ms/step - loss: -25.7644 - accuracy: 0.0000e+00\n",
      "Epoch 47/50\n",
      "22/22 [==============================] - 0s 4ms/step - loss: -25.7644 - accuracy: 0.0000e+00\n",
      "Epoch 48/50\n",
      "22/22 [==============================] - 0s 4ms/step - loss: -25.7644 - accuracy: 0.0000e+00\n",
      "Epoch 49/50\n",
      "22/22 [==============================] - 0s 4ms/step - loss: -25.7645 - accuracy: 0.0000e+00\n",
      "Epoch 50/50\n",
      "22/22 [==============================] - 0s 4ms/step - loss: -25.7645 - accuracy: 0.0000e+00\n"
     ]
    },
    {
     "data": {
      "text/plain": [
       "<keras.callbacks.History at 0x715f29b940>"
      ]
     },
     "execution_count": 127,
     "metadata": {},
     "output_type": "execute_result"
    }
   ],
   "source": [
    "model.fit(x,y,epochs=50)"
   ]
  },
  {
   "cell_type": "code",
   "execution_count": 128,
   "id": "46a22a8c",
   "metadata": {},
   "outputs": [
    {
     "name": "stdout",
     "output_type": "stream",
     "text": [
      "22/22 [==============================] - 1s 8ms/step - loss: -25.7645 - accuracy: 0.0000e+00\n"
     ]
    },
    {
     "data": {
      "text/plain": [
       "[-25.764453887939453, 0.0]"
      ]
     },
     "execution_count": 128,
     "metadata": {},
     "output_type": "execute_result"
    }
   ],
   "source": [
    "model.evaluate(x,y)"
   ]
  },
  {
   "cell_type": "code",
   "execution_count": null,
   "id": "b1c3c6bd",
   "metadata": {},
   "outputs": [],
   "source": []
  },
  {
   "cell_type": "code",
   "execution_count": null,
   "id": "4f7fb443",
   "metadata": {},
   "outputs": [],
   "source": []
  },
  {
   "cell_type": "code",
   "execution_count": null,
   "id": "e0d43682",
   "metadata": {},
   "outputs": [],
   "source": []
  }
 ],
 "metadata": {
  "kernelspec": {
   "display_name": "Python 3 (ipykernel)",
   "language": "python",
   "name": "python3"
  },
  "language_info": {
   "codemirror_mode": {
    "name": "ipython",
    "version": 3
   },
   "file_extension": ".py",
   "mimetype": "text/x-python",
   "name": "python",
   "nbconvert_exporter": "python",
   "pygments_lexer": "ipython3",
   "version": "3.9.7"
  }
 },
 "nbformat": 4,
 "nbformat_minor": 5
}
